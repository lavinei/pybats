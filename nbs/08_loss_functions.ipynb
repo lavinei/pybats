{
 "cells": [
  {
   "cell_type": "code",
   "execution_count": null,
   "metadata": {},
   "outputs": [],
   "source": [
    "#hide\n",
    "%load_ext autoreload\n",
    "%autoreload 2"
   ]
  },
  {
   "cell_type": "code",
   "execution_count": null,
   "metadata": {},
   "outputs": [],
   "source": [
    "# default_exp loss_functions"
   ]
  },
  {
   "cell_type": "markdown",
   "metadata": {},
   "source": [
    "# Loss Functions\n",
    "\n",
    "> Functions to find the loss (or error) given a set of observations and point forecasts."
   ]
  },
  {
   "cell_type": "markdown",
   "metadata": {},
   "source": [
    "The loss functions in this module are commonly used to complete a time series analysis, with the following steps:\n",
    "\n",
    "1. Run an `analysis`, returning an array of forecast samples\n",
    "2. Use a function from `point_forecast` to find the forecast mean, median, or $(-1)-$median\n",
    "3. Evaluate the point forecast error using a loss function from this module"
   ]
  },
  {
   "cell_type": "code",
   "execution_count": null,
   "metadata": {},
   "outputs": [],
   "source": [
    "#hide\n",
    "#exporti\n",
    "import numpy as np"
   ]
  },
  {
   "cell_type": "code",
   "execution_count": null,
   "metadata": {},
   "outputs": [],
   "source": [
    "#export\n",
    "def MSE(y, f):\n",
    "    \"\"\"\n",
    "    Mean squared error (MSE).\n",
    "    \"\"\"\n",
    "\n",
    "    y = np.ravel(y)\n",
    "    f = np.ravel(f)\n",
    "    return np.mean((y - f)**2)"
   ]
  },
  {
   "cell_type": "markdown",
   "metadata": {},
   "source": [
    "The mean squared error loss is:\n",
    "\n",
    "$$L = \\frac{1}{n} \\sum_{i=1:n} (y_i - f_i)^2$$\n",
    "\n",
    "The mean is the optimal point forecast for minimizing the MSE. An example below demonstrates how to use the function:"
   ]
  },
  {
   "cell_type": "code",
   "execution_count": null,
   "metadata": {},
   "outputs": [
    {
     "name": "stdout",
     "output_type": "stream",
     "text": [
      "beginning forecasting\n",
      "1-Step Ahead MSE: 1.08\n",
      "2-Step Ahead MSE: 1.01\n",
      "3-Step Ahead MSE: 1.08\n",
      "4-Step Ahead MSE: 1.13\n"
     ]
    }
   ],
   "source": [
    "from pybats.shared import load_us_inflation\n",
    "from pybats.analysis import analysis\n",
    "from pybats.point_forecast import mean, median, m_one_median\n",
    "import pandas as pd\n",
    "\n",
    "data = load_us_inflation()\n",
    "\n",
    "forecast_start = '2000-Q1'\n",
    "forecast_end = '2013-Q4'\n",
    "Y = data.Inflation.values[1:]\n",
    "\n",
    "mod, samples = analysis(Y = Y, X=None, family=\"normal\",\n",
    "                        k = 4, prior_length = 12,\n",
    "                        forecast_start = forecast_start, forecast_end = forecast_end,\n",
    "                        dates=data.Date,\n",
    "                        ntrend = 2, deltrend=.99,\n",
    "                        nsamps = 5000)\n",
    "\n",
    "# Use the mean, because it is optimal for minimizing the MSE\n",
    "forecast = mean(samples)\n",
    "\n",
    "for h in range(4):\n",
    "    start = data[data.Date == forecast_start].index[0] + h\n",
    "    end = data[data.Date == forecast_end].index[0] + h + 1\n",
    "\n",
    "    print(str(h+1) + '-Step Ahead MSE: ' + str(MSE(Y[start:end], forecast[:,h]).round(2)))"
   ]
  },
  {
   "cell_type": "code",
   "execution_count": null,
   "metadata": {},
   "outputs": [],
   "source": [
    "#export\n",
    "def MAD(y, f):\n",
    "    \"\"\"\n",
    "    Mean absolute deviation (MAD).\n",
    "    \"\"\"\n",
    "\n",
    "    y = np.ravel(y)\n",
    "    f = np.ravel(f)\n",
    "    return np.mean(np.abs(y-f))"
   ]
  },
  {
   "cell_type": "markdown",
   "metadata": {},
   "source": [
    "The mean absolute deviation is:\n",
    "\n",
    "$$L = \\frac{1}{n} \\sum_{i=1:n} |y_i - f_i|$$\n",
    "\n",
    "The median is the optimal point forecast for minimizing the MAD. An example below demonstrates how to use the function:"
   ]
  },
  {
   "cell_type": "code",
   "execution_count": null,
   "metadata": {},
   "outputs": [
    {
     "name": "stdout",
     "output_type": "stream",
     "text": [
      "1-Step Ahead MAD: 0.85\n",
      "2-Step Ahead MAD: 0.8\n",
      "3-Step Ahead MAD: 0.82\n",
      "4-Step Ahead MAD: 0.84\n"
     ]
    }
   ],
   "source": [
    "# Use the median, because it is optimal for minimizing the MAD\n",
    "forecast = median(samples)\n",
    "\n",
    "for h in range(4):\n",
    "    start = data[data.Date == forecast_start].index[0] + h\n",
    "    end = data[data.Date == forecast_end].index[0] + h + 1\n",
    "\n",
    "    print(str(h+1) + '-Step Ahead MAD: ' + str(MAD(Y[start:end], forecast[:,h]).round(2)))"
   ]
  },
  {
   "cell_type": "code",
   "execution_count": null,
   "metadata": {},
   "outputs": [],
   "source": [
    "#export\n",
    "def MAPE(y, f):\n",
    "    \"\"\"\n",
    "    Mean absolute percent error (MAPE).\n",
    "    \"\"\"\n",
    "    y = np.ravel(y)\n",
    "    f = np.ravel(f)\n",
    "    return 100*np.mean(np.abs((y - f)) / y)"
   ]
  },
  {
   "cell_type": "markdown",
   "metadata": {},
   "source": [
    "The mean absolute percent error is:\n",
    "\n",
    "$$L = \\frac{1}{n} \\sum_{i=1:n} \\frac{|y_i - f_i|}{y_i}$$\n",
    "\n",
    "The $(-1)-$median is the optimal point forecast for minimizing the MAPE. An example below demonstrates how to use the function:"
   ]
  },
  {
   "cell_type": "code",
   "execution_count": null,
   "metadata": {},
   "outputs": [
    {
     "name": "stdout",
     "output_type": "stream",
     "text": [
      "1-Step Ahead MAPE: 73.37%\n",
      "2-Step Ahead MAPE: 90.54%\n",
      "3-Step Ahead MAPE: 66.98%\n",
      "4-Step Ahead MAPE: 80.82%\n"
     ]
    }
   ],
   "source": [
    "# Use the (-1)-median, because it is optimal for minimizing the MAPE\n",
    "forecast = m_one_median(samples)\n",
    "\n",
    "for h in range(4):\n",
    "    start = data[data.Date == forecast_start].index[0] + h\n",
    "    end = data[data.Date == forecast_end].index[0] + h + 1\n",
    "\n",
    "    print(str(h+1) + '-Step Ahead MAPE: ' + str(MAPE(Y[start:end], forecast[:,h]).round(2)) + \"%\")"
   ]
  },
  {
   "cell_type": "code",
   "execution_count": null,
   "metadata": {},
   "outputs": [],
   "source": [
    "#exporti\n",
    "def WAPE(y, f):\n",
    "    \"\"\"\n",
    "    Weighted Absolute Percent Error (WAPE).\n",
    "\n",
    "    .. math:: WAPE(y, f) =  \\\\frac{\\sum_{i=1:n} |y_i-f_i|}{\\sum_{i=1:n} y_i}\n",
    "\n",
    "    The weighted absolute percent error solves the issues of division by 0 in the MAPE.\n",
    "\n",
    "    The optimal point forecase to minimize the WAPE is the joint (-1)-median.\n",
    "\n",
    "    .. code::\n",
    "\n",
    "        k = 1\n",
    "        WAPE(y[forecast_start + k - 1:forecast_end + k], joint_m_one_median(samples))\n",
    "\n",
    "    :param y: Observation vector\n",
    "    :param f: Point forecast vector\n",
    "    :return: Weighted absolute percent error (WAPE)\n",
    "    \"\"\"\n",
    "\n",
    "    y = np.ravel(y)\n",
    "    f = np.ravel(f)\n",
    "    return 100*np.sum(np.abs(y-f)) / np.sum(y)"
   ]
  },
  {
   "cell_type": "code",
   "execution_count": null,
   "metadata": {},
   "outputs": [],
   "source": [
    "#exporti\n",
    "def WAFE(y, f):\n",
    "    \"\"\"\n",
    "    Weighted Absolute Forecast Error (WAFE).\n",
    "\n",
    "    .. math:: WAFE(y, f) =  \\\\frac{\\sum_{i=1:n} |y_i-f_i|}{\\sum_{i=1:n} \\\\frac{1}{2}(y_i + f_i)}\n",
    "\n",
    "    Similar to WAPE, the weighted absolute forecast error solves the issues of division by 0 in the MAPE.\n",
    "    It  balances between the observations (:math:`y_i`) and forecasts (:math:`f_i`) in the denominator.\n",
    "\n",
    "    .. code::\n",
    "\n",
    "        k = 1\n",
    "        WAFE(y[forecast_start + k - 1:forecast_end + k], median(samples))\n",
    "\n",
    "    :param y: Observation vector\n",
    "    :param f: Point forecast vector\n",
    "    :return: Weighted absolute forecast error (WAFE)\n",
    "    \"\"\"\n",
    "\n",
    "    y = np.ravel(y)\n",
    "    f = np.ravel(f)\n",
    "    return 100*np.sum(np.abs(y-f)) / ((np.sum(y) + np.sum(f))/2)"
   ]
  },
  {
   "cell_type": "code",
   "execution_count": null,
   "metadata": {},
   "outputs": [],
   "source": [
    "#exporti\n",
    "def ZAPE(y, f):\n",
    "    \"\"\"\n",
    "    Zero-Adjusted Absolute Percent Error (ZAPE).\n",
    "\n",
    "    .. math:: ZAPE(y, f) = \\\\frac{1}{n} \\sum_{i=1:n} I(y_i = 0) * f_i + I(y_i = 1) * |y_i-f_i| / y_i\n",
    "\n",
    "    The zero-adjusted absolute percent error is an similar to absolute percent error (APE), but sets the loss equal to :math:`f_i` when :math:`y_i=0`, to avoid division by 0.\n",
    "\n",
    "    Finding the optimal point forecast for ZAPE requires a simple numerical optimization, and lies between the median and (-1)-median.\n",
    "\n",
    "    .. code::\n",
    "\n",
    "        k = 1\n",
    "        ZAPE(y[forecast_start + k - 1:forecast_end + k], median(samples))\n",
    "\n",
    "    :param y: Observation vector\n",
    "    :param f: Point forecast vector\n",
    "    :return: The mean Zero-Adjusted absolute percent error (ZAPE)\n",
    "    \"\"\"\n",
    "\n",
    "    y = np.ravel(y)\n",
    "    f = np.ravel(f)\n",
    "    nonzeros = y.nonzero()[0]\n",
    "    n = len(y)\n",
    "    loss = np.copy(f)\n",
    "    loss[nonzeros] = np.abs(y[nonzeros] - f[nonzeros]) / y[nonzeros]\n",
    "    return 100*np.mean(loss)"
   ]
  },
  {
   "cell_type": "code",
   "execution_count": null,
   "metadata": {},
   "outputs": [],
   "source": [
    "#exporti\n",
    "def scaledMSE(y, f, ymean = None):\n",
    "    y = np.ravel(y)\n",
    "    f = np.ravel(f)\n",
    "    if ymean is None:\n",
    "        # First check if the 'y' vector is longer than f\n",
    "        ny = len(y)\n",
    "        nf = len(f)\n",
    "        ymean = np.cumsum(y) / np.arange(1, ny+1)\n",
    "        # Assume that the forecasts and y vector terminate at the same point\n",
    "        y = y[-nf:]\n",
    "        ymean = ymean[-nf:]\n",
    "    return np.mean(((y.reshape(-1) - f.reshape(-1)) ** 2 / (ymean.reshape(-1) ** 2)))"
   ]
  },
  {
   "cell_type": "code",
   "execution_count": null,
   "metadata": {},
   "outputs": [
    {
     "name": "stdout",
     "output_type": "stream",
     "text": [
      "Converted 00_dglm.ipynb.\n",
      "Converted 01_update.ipynb.\n",
      "Converted 02_forecast.ipynb.\n",
      "Converted 03_define_models.ipynb.\n",
      "Converted 04_seasonal.ipynb.\n",
      "Converted 05_analysis.ipynb.\n",
      "Converted 06_conjugates.ipynb.\n",
      "Converted 07_point_forecast.ipynb.\n",
      "Converted 08_loss_functions.ipynb.\n",
      "Converted 09_plot.ipynb.\n",
      "Converted 10_shared.ipynb.\n",
      "Converted 11_dcmm.ipynb.\n",
      "Converted 12_dbcm.ipynb.\n",
      "Converted 13_latent_factor.ipynb.\n",
      "Converted 14_latent_factor_fxns.ipynb.\n",
      "Converted index.ipynb.\n"
     ]
    }
   ],
   "source": [
    "#hide\n",
    "from nbdev.export import notebook2script\n",
    "notebook2script()"
   ]
  },
  {
   "cell_type": "code",
   "execution_count": null,
   "metadata": {},
   "outputs": [],
   "source": []
  }
 ],
 "metadata": {
  "kernelspec": {
   "display_name": "Python 3",
   "language": "python",
   "name": "python3"
  }
 },
 "nbformat": 4,
 "nbformat_minor": 4
}
