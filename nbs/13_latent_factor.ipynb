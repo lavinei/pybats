{
 "cells": [
  {
   "cell_type": "code",
   "execution_count": null,
   "metadata": {},
   "outputs": [],
   "source": [
    "#hide\n",
    "%load_ext autoreload\n",
    "%autoreload 2"
   ]
  },
  {
   "cell_type": "code",
   "execution_count": null,
   "metadata": {},
   "outputs": [],
   "source": [
    "# default_exp latent_factor"
   ]
  },
  {
   "cell_type": "markdown",
   "metadata": {},
   "source": [
    "# Latent Factors\n",
    "\n",
    "> A latent factor, which in PyBATS is a random variable used as a predictor for regression. By default, latent factors are described by a mean and a variance, but can also be integrated into a model through simulation, which is a more precise but slower process."
   ]
  },
  {
   "cell_type": "markdown",
   "metadata": {},
   "source": [
    "Latent factors are frequently used to model dependence among time series in a multivariate analysis. Several examples of doing this with a mean and variance are in [Lavine, Cron, and West (2020)](https://arxiv.org/pdf/2007.04956.pdf), while examples using simulated values are given in [Berry and West (2019)](https://arxiv.org/pdf/1805.05232.pdf).\n",
    "\n",
    "One usage is for multiscale inference, where the time series have a hierarchical structure. For example, in retail sales you may observe both the total sales in a store and the sales of an individual item. The total sales in the store are more regular and predictable, so modeling them can produce smooth estimates of the day-of-week seasonality and the holiday effect at your store. These effects can be captured by a latent factor, and used as a predictor in a model of an individual item's sales, which are noisier and more unpredictable.\n",
    "\n",
    "Let's say that the latent factor $\\phi_t$ is created by model $\\mathcal{M}_0$ of the time series $z_t$. The latent factor is used as a predictor in model $\\mathcal{M}_i$ of the series $y_t$. The latent factor class describes $\\phi_t$ through:\n",
    "- A forecast mean and a variance, which is estimated *before* observing $z_t$, and is used to forecast $y_t$.\n",
    "- An update mean and variance, which is estimated *after* observing $z_t$, and is used to update the state vector in $\\mathcal{M}_i$ after observing $y_t$. Sometimes the latent factor is precisely known after observing $z_t$ (e.g. when the latent factor *is* $z_t$), and then the update variance is $0$.\n",
    "\n",
    "Several common types of latent factors have been pre-defined in PyBATS:\n",
    "1. `seas_weekly_lf`: The weekly seasonal effect latent factor.\n",
    "2. `hol_lf`: The holiday effect latent factor\n",
    "3. `Y_lf`: The observation latent factor. In this case, the forecast is simply the forecast mean and variance from $\\mathcal{M}_0$, and the observed $z_t$ is used for updating.\n",
    "4. `pois_coef_lf`, `bern_coef_lf`, and `dlm_coef_lf`: The coefficient (or state vector) latent factors for different types of DGLMs. These latent factors capture specified coefficients from $\\mathcal{M}_0$.\n",
    "\n",
    "Finally, the class `multi_latent_factor` concatenates multiple latent factors together when a model is using more than one latent factor as a predictor.\n",
    "\n",
    "Simple examples of using latent factors are given below, and two more with a DCMM and a DBCM are provided in the [examples folder](https://github.com/lavinei/pybats_nbdev/tree/master/examples)."
   ]
  },
  {
   "cell_type": "code",
   "execution_count": null,
   "metadata": {},
   "outputs": [],
   "source": [
    "#hide\n",
    "#exporti\n",
    "from functools import partial\n",
    "\n",
    "import numpy as np\n",
    "import pandas as pd\n",
    "from collections.abc import Iterable\n",
    "import copy\n",
    "import pickle\n",
    "\n",
    "from pybats.seasonal import get_seasonal_effect_fxnl, forecast_weekly_seasonal_factor, forecast_path_weekly_seasonal_factor\n",
    "from pybats.dbcm import dbcm\n",
    "from pybats.dcmm import dcmm\n",
    "from pybats.forecast import forecast_aR, forecast_R_cov\n",
    "from pybats.dglm import dlm"
   ]
  },
  {
   "cell_type": "code",
   "execution_count": null,
   "metadata": {},
   "outputs": [],
   "source": [
    "#export\n",
    "class latent_factor:\n",
    "    def __init__(self, mean={}, var={}, forecast_mean={}, forecast_var={}, forecast_cov={},\n",
    "                 dates=[], forecast_dates=[],\n",
    "                 gen_fxn = None, gen_forecast_fxn = None, forecast_path=False, p = None, k=None):\n",
    "        \n",
    "        self.forecast_mean = forecast_mean\n",
    "        self.forecast_var = forecast_var\n",
    "        self.forecast_cov = forecast_cov\n",
    "        self.mean = mean\n",
    "        self.var = var\n",
    "        \n",
    "        self.p = p\n",
    "        self.k = k\n",
    "        self.dates = dates\n",
    "        self.forecast_dates = forecast_dates\n",
    "        \n",
    "        #if len(dates) != 0:\n",
    "        #    self.start_date = np.min(dates)\n",
    "        #    self.end_date = np.max(dates)\n",
    "            \n",
    "        #if len(forecast_dates) != 0:\n",
    "        #    self.forecast_start_date = np.min(forecast_dates)\n",
    "        #    self.forecast_end_date = np.max(forecast_dates)            \n",
    "\n",
    "        if len(mean) != 0 and len(dates) != 0:\n",
    "            if len(dates) != len(mean):\n",
    "                print('Error: Dates should have the same length as the latent factor')\n",
    "            #if isinstance(mean[0], Iterable):\n",
    "            #    self.p = len(mean[0])\n",
    "            #else:\n",
    "            #    self.p = 1\n",
    "            self.k = len(forecast_mean[dates[0]]) # forecast length\n",
    "        self.gen_fxn = gen_fxn\n",
    "        self.gen_forecast_fxn = gen_forecast_fxn\n",
    "\n",
    "        self.forecast_path = forecast_path\n",
    "\n",
    "    def get_lf(self, date):\n",
    "        return self.mean[date], self.var[date]\n",
    "\n",
    "    def get_lf_forecast(self, date):\n",
    "        if self.forecast_path:\n",
    "            return self.forecast_mean[date], self.forecast_var[date], self.forecast_cov[date]\n",
    "        else:\n",
    "            return self.forecast_mean[date], self.forecast_var[date]\n",
    "\n",
    "    def generate_lf(self, date, **kwargs):\n",
    "        m, v = self.gen_fxn(date, **kwargs)\n",
    "        self.mean.update({date:m})\n",
    "        self.var.update({date:v})\n",
    "        if self.p is None:\n",
    "            if type(m) == np.ndarray:\n",
    "                self.p = len(m)\n",
    "            else:\n",
    "                self.p = 1\n",
    "                \n",
    "        self.dates.append(date)\n",
    "        #self.start_date = np.min(self.dates)\n",
    "        #self.end_date = np.max(self.dates)\n",
    "        \n",
    "        # m = pd.Series({date:m})\n",
    "        # v = pd.Series({date:v})\n",
    "        # self.mean = self.mean.append(m)\n",
    "        # self.var = self.var.append(v)\n",
    "\n",
    "    def generate_lf_forecast(self, date, **kwargs):\n",
    "        if self.forecast_path:\n",
    "            m, v, cov = self.gen_forecast_fxn(date, forecast_path=self.forecast_path, **kwargs)\n",
    "            self.forecast_cov.update({date:cov})\n",
    "        else:\n",
    "            m, v = self.gen_forecast_fxn(date, forecast_path=self.forecast_path, **kwargs)\n",
    "\n",
    "        self.forecast_mean.update({date:m})\n",
    "        self.forecast_var.update({date:v})\n",
    "        if self.k is None:\n",
    "            self.k = len(m)\n",
    "            \n",
    "        self.forecast_dates.append(date)\n",
    "        #self.forecast_start_date = np.min(self.forecast_dates)\n",
    "        #self.forecast_end_date = np.max(self.forecast_dates)\n",
    "        \n",
    "        # m = pd.Series({date:m})\n",
    "        # v = pd.Series({date:v})\n",
    "        # self.forecast_mean = self.forecast_mean.append(m)\n",
    "        # self.forecast_var = self.forecast_var.append(v)\n",
    "\n",
    "    def copy(self):\n",
    "        newlf = copy.deepcopy(self)\n",
    "\n",
    "        return newlf\n",
    "\n",
    "    def save(self, filename):\n",
    "        file = open(filename, \"wb\")\n",
    "        pickle.dump(self, file=file)\n",
    "        \n",
    "    @classmethod\n",
    "    def load_latent_factor(filename):\n",
    "        file = open(filename, 'rb')\n",
    "        return pickle.load(file)"
   ]
  },
  {
   "cell_type": "code",
   "execution_count": null,
   "metadata": {},
   "outputs": [],
   "source": [
    "#export\n",
    "class multi_latent_factor(latent_factor):\n",
    "    def __init__(self, latent_factors):\n",
    "        \"\"\"\n",
    "        :param latent_factors: Tuple that contains only objects of class 'latent_factor'\n",
    "        \"\"\"\n",
    "        self.n_lf = len(latent_factors)\n",
    "        self.p = np.sum([lf.p for lf in latent_factors])\n",
    "        self.k = np.min([lf.k for lf in latent_factors])\n",
    "        self.latent_factors = latent_factors\n",
    "\n",
    "        # initialize matrices that filled in when 'get_lf' and 'get_lf_forecast' are called\n",
    "        self.mean = np.zeros(self.p)\n",
    "        self.var = np.zeros([self.p, self.p])\n",
    "        self.forecast_mean = [np.zeros(self.p) for k in range(self.k)]\n",
    "        self.forecast_var = [np.zeros([self.p, self.p]) for k in range(self.k)]\n",
    "        self.forecast_cov = [np.zeros([self.p, self.p, k]) for k in range(1, self.k)]\n",
    "\n",
    "        # Set the start and end dates        \n",
    "        start_date = np.max([np.min(lf.dates) for lf in latent_factors])\n",
    "        end_date = np.min([np.max(lf.dates) for lf in latent_factors])\n",
    "        self.dates = pd.date_range(start_date, end_date)\n",
    "\n",
    "        # Set the start and end forecast dates\n",
    "        forecast_start_date = np.max([np.min(lf.forecast_dates) for lf in latent_factors])\n",
    "        forecast_end_date = np.min([np.max(lf.forecast_dates) for lf in latent_factors])\n",
    "        self.forecast_dates = pd.date_range(forecast_start_date, forecast_end_date)\n",
    "\n",
    "        if np.all([lf.forecast_path for lf in self.latent_factors]):\n",
    "            self.forecast_path = True\n",
    "        else:\n",
    "            self.forecast_path = False\n",
    "\n",
    "    def get_lf(self, date):\n",
    "        idx = 0\n",
    "        for lf in self.latent_factors:\n",
    "            m, v = lf.get_lf(date)\n",
    "            self.mean[idx:idx + lf.p] = m\n",
    "            self.var[idx:idx + lf.p, idx:idx + lf.p] = v\n",
    "            idx += lf.p\n",
    "\n",
    "        return self.mean, self.var\n",
    "\n",
    "    def get_lf_forecast(self, date):\n",
    "        idx = 0\n",
    "        if self.forecast_path:\n",
    "            for lf in self.latent_factors:\n",
    "\n",
    "                f_m, f_v, f_c = lf.get_lf_forecast(date)\n",
    "                for k, [m, v] in enumerate(zip(f_m, f_v)):\n",
    "                    self.forecast_mean[k][idx:idx + lf.p] = m\n",
    "                    self.forecast_var[k][idx:idx + lf.p, idx:idx + lf.p] = v\n",
    "                    if k > 0:\n",
    "                        self.forecast_cov[k - 1][idx:idx + lf.p, idx:idx + lf.p, :] = f_c[k-1]\n",
    "                idx += lf.p\n",
    "            return self.forecast_mean, self.forecast_var, self.forecast_cov\n",
    "\n",
    "        else:\n",
    "            for lf in self.latent_factors:\n",
    "                f_m, f_v = lf.get_lf_forecast(date)\n",
    "                for k, [m, v] in enumerate(zip(f_m, f_v)):\n",
    "                    self.forecast_mean[k][idx:idx + lf.p] = m\n",
    "                    self.forecast_var[k][idx:idx + lf.p, idx:idx + lf.p] = v\n",
    "                idx += lf.p\n",
    "            return self.forecast_mean, self.forecast_var\n",
    "\n",
    "\n",
    "    def copy(self):\n",
    "\n",
    "        new_lfs = []\n",
    "        for lf in self.latent_factors:\n",
    "\n",
    "            new_lfs.append(lf.copy())\n",
    "\n",
    "        return multi_latent_factor(new_lfs)\n",
    "\n",
    "    def add_latent_factor(self, latent_factor):\n",
    "        \"\"\"\n",
    "        :param latent_factor: A new latent factor to be added to the multi_latent_factor\n",
    "        :return:\n",
    "        \"\"\"\n",
    "        # Append the new latent_factor on\n",
    "        self.latent_factors.append(latent_factor)\n",
    "\n",
    "        self.n_lf = len(self.latent_factors)\n",
    "        self.p = np.sum([lf.p for lf in self.latent_factors])\n",
    "        self.k = np.min([lf.k for lf in self.latent_factors])\n",
    "\n",
    "        # initialize matrices that filled in when 'get_lf' and 'get_lf_forecast' are called\n",
    "        self.mean = np.zeros(self.p)\n",
    "        self.var = np.zeros([self.p, self.p])\n",
    "        self.forecast_mean = [np.zeros(self.p) for k in range(self.k)]\n",
    "        self.forecast_var = [np.zeros([self.p, self.p]) for k in range(self.k)]\n",
    "        self.forecast_cov = [np.zeros([self.p, self.p, k]) for k in range(1, self.k)]\n",
    "\n",
    "        # Set the start and end dates\n",
    "        start_date = np.max([np.min(lf.dates) for lf in latent_factors])\n",
    "        end_date = np.min([np.max(lf.dates) for lf in latent_factors])\n",
    "        self.dates = pd.date_range(start_date, end_date)\n",
    "\n",
    "        # Set the start and end forecast dates\n",
    "        forecast_start_date = np.max([np.min(lf.forecast_dates) for lf in latent_factors])\n",
    "        forecast_end_date = np.min([np.max(lf.forecast_dates) for lf in latent_factors])\n",
    "        self.forecast_dates = pd.date_range(forecast_start_date, forecast_end_date)\n",
    "\n",
    "    def drop_latent_factor(self, idx):\n",
    "        \"\"\"\n",
    "        :param idx: Index of the latent factor to drop\n",
    "        :return:\n",
    "        \"\"\"\n",
    "        # Append the new latent_factor on\n",
    "        self.latent_factors.pop(idx)\n",
    "\n",
    "        self.n_lf = len(self.latent_factors)\n",
    "        self.p = np.sum([lf.p for lf in self.latent_factors])\n",
    "        self.k = np.min([lf.k for lf in self.latent_factors])\n",
    "\n",
    "        # initialize matrices that filled in when 'get_lf' and 'get_lf_forecast' are called\n",
    "        self.mean = np.zeros(self.p)\n",
    "        self.var = np.zeros([self.p, self.p])\n",
    "        self.forecast_mean = [np.zeros(self.p) for k in range(self.k)]\n",
    "        self.forecast_var = [np.zeros([self.p, self.p]) for k in range(self.k)]\n",
    "        self.forecast_cov = [np.zeros([self.p, self.p, k]) for k in range(1, self.k)]\n",
    "\n",
    "        # Set the start and end dates\n",
    "        start_date = np.max([np.min(lf.dates) for lf in latent_factors])\n",
    "        end_date = np.min([np.max(lf.dates) for lf in latent_factors])\n",
    "        self.dates = pd.date_range(start_date, end_date)\n",
    "\n",
    "        # Set the start and end forecast dates\n",
    "        forecast_start_date = np.max([np.min(lf.forecast_dates) for lf in latent_factors])\n",
    "        forecast_end_date = np.min([np.max(lf.forecast_dates) for lf in latent_factors])\n",
    "        self.forecast_dates = pd.date_range(forecast_start_date, forecast_end_date)\n",
    "\n",
    "    def save(self, filename):\n",
    "        file = open(filename, \"wb\")\n",
    "        pickle.dump(self, file=file)"
   ]
  },
  {
   "cell_type": "markdown",
   "metadata": {},
   "source": [
    "The first latent factor example involves combining forecasts from different models. We have the forecast means and variances from 4 models that were used to predict quarterly US inflation from 1977 to 2014. One simple approach would be to use the 4 forecast means as predictors in a unified model. However, because we know the variance associated with each forecast, we can use a latent factor instead and account for the forecast uncertainty.\n",
    "\n",
    "This example is inspired by Bayesian Predictive Synthesis, which is a sophisticated strategy for combining forecasts, and was first developed in [McAlinn and West, 2016](https://arxiv.org/pdf/1601.07463.pdf). This use of latent factors can be seen as an approximation to Bayesian Predictive Synthesis which allows for faster computation. The data in this example comes from that paper, and can be found [here](https://www2.stat.duke.edu/~mw/mwsoftware/BPS/index.html)."
   ]
  },
  {
   "cell_type": "code",
   "execution_count": null,
   "metadata": {},
   "outputs": [],
   "source": [
    "import numpy as np\n",
    "import matplotlib.pyplot as plt\n",
    "\n",
    "from pybats.shared import load_us_inflation_forecasts\n",
    "from pybats.define_models import define_dglm\n",
    "from pybats.analysis import analysis\n",
    "from pybats.latent_factor import dlm_coef_lf\n",
    "from pybats.point_forecast import mean\n",
    "from pybats.loss_functions import MAPE\n",
    "from pybats.plot import plot_corr, plot_data_forecast"
   ]
  },
  {
   "cell_type": "markdown",
   "metadata": {},
   "source": [
    "We start by loading in the data, which includes quarterly US inflation as well as the forecast means and variances from the 4 models."
   ]
  },
  {
   "cell_type": "code",
   "execution_count": null,
   "metadata": {},
   "outputs": [],
   "source": [
    "data = load_us_inflation_forecasts()\n",
    "dates = data['Dates']"
   ]
  },
  {
   "cell_type": "markdown",
   "metadata": {},
   "source": [
    "Next, we define the hyperparameters and create the latent factor.\n",
    "\n",
    "In this situation we're using the forecast mean and variance for updating as well, so the mean and forecast mean are the same, as are the variance and forecast variance."
   ]
  },
  {
   "cell_type": "code",
   "execution_count": null,
   "metadata": {},
   "outputs": [],
   "source": [
    "k = 1 #Forecast horizon: 1-quarter ahead\n",
    "forecast_start = 50\n",
    "forecast_end = 149\n",
    "agents=[1,2,3,4]\n",
    "nagents = len(agents)\n",
    "Y = data['Inflation']\n",
    "\n",
    "lf = latent_factor(\n",
    "    mean = {d:m.astype('float64') for d, m in zip(dates, list(data['model_mean'].values))},\n",
    "    var={d:np.diag(v).astype('float64') for d, v in zip(dates, list(data['model_var'].values))},\n",
    "    forecast_mean={d:[m.astype('float64')] for d, m in zip(dates, list(data['model_mean'].values))},\n",
    "    forecast_var={d:[np.diag(v).astype('float64')] for d,v in zip(dates, list(data['model_var'].values))},\n",
    "    forecast_dates=dates,\n",
    "    p = nagents,\n",
    "    k = k)"
   ]
  },
  {
   "cell_type": "markdown",
   "metadata": {},
   "source": [
    "In this example we're choosing to manually define a model *before* running an analysis. The reason is that we have prior information about the coefficients, and want to incorporate that information into the analysis. Specifically, we're giving each of the 4 models an equal starting weight by setting their coefficient means equal to $1/4$, and setting the intercept to $0$. The key parameters are:\n",
    "\n",
    "- $a_0$, the prior mean of the coefficients\n",
    "- $R_0$, the prior covariance matrix of the coefficients\n",
    "- $s_0$, the prior observation variance in the normal dlm\n",
    "- $n_0$, the prior weight given to $s_0$, so the higher $n_0$ is the more confident the model is in $s_0$."
   ]
  },
  {
   "cell_type": "code",
   "execution_count": null,
   "metadata": {},
   "outputs": [],
   "source": [
    "kwargs = {'a0':np.concatenate([np.zeros(1), np.array([1/nagents]*nagents)]).reshape(-1,1),\n",
    "          'R0':np.identity(nagents+1) / 0.99,\n",
    "          's0':0.01,\n",
    "          'n0':5*0.99,\n",
    "          'deltrend': 0.99,\n",
    "          'dellf':0.99,\n",
    "          'delVar':0.99\n",
    "          }\n",
    "\n",
    "mod_prior = define_dglm(Y=Y, X=None,\n",
    "                        family='normal',\n",
    "                        seasPeriods=[], seasHarmComponents=[[]],\n",
    "                        nlf=4,\n",
    "                        **kwargs)"
   ]
  },
  {
   "cell_type": "markdown",
   "metadata": {},
   "source": [
    "The analysis is run as normal, but with two extra arguments:\n",
    "- The latent factor, `latent_factor=lf`\n",
    "- The initialized model, `model_prior=mod_prior`.\n",
    "\n",
    "Setting `prior_length=0` means that we aren't using any of the observations in $Y$ to set our prior."
   ]
  },
  {
   "cell_type": "code",
   "execution_count": null,
   "metadata": {},
   "outputs": [
    {
     "name": "stdout",
     "output_type": "stream",
     "text": [
      "beginning forecasting\n"
     ]
    }
   ],
   "source": [
    "# Run updating + forecasting\n",
    "prior_length = 0\n",
    "\n",
    "samples, mod = analysis(Y, X = None, family = \"normal\",\n",
    "                        prior_length = prior_length, k = 1, ntrend = 1, nsamps = 5000,\n",
    "                        forecast_start = forecast_start, forecast_end = forecast_end,\n",
    "                        model_prior = mod_prior,\n",
    "                        latent_factor = lf,\n",
    "                        dates = dates,\n",
    "                        ret = ['forecast', 'model'],\n",
    "                        **kwargs)\n"
   ]
  },
  {
   "cell_type": "markdown",
   "metadata": {},
   "source": [
    "To evaluate the model, we can look at the forecast accuracy in terms of mean absolute percent error (MAPE):"
   ]
  },
  {
   "cell_type": "code",
   "execution_count": null,
   "metadata": {},
   "outputs": [
    {
     "data": {
      "text/plain": [
       "12.641"
      ]
     },
     "execution_count": null,
     "metadata": {},
     "output_type": "execute_result"
    }
   ],
   "source": [
    "forecast = mean(samples)\n",
    "np.round(MAPE(Y[forecast_start: forecast_end+1], forecast), 3)"
   ]
  },
  {
   "cell_type": "markdown",
   "metadata": {},
   "source": [
    "And plot the $1-$quarter ahead forecasts. There is a clear 'lagged' pattern in the forecasts, in which the forecast is close to the previous observation. This is because the previous observation is a very important predictor in the 4 models that we are averaging together."
   ]
  },
  {
   "cell_type": "code",
   "execution_count": null,
   "metadata": {},
   "outputs": [
    {
     "data": {
      "image/png": "[encoded data removed]",
      "text/plain": [
       "<Figure size 720x360 with 1 Axes>"
      ]
     },
     "metadata": {
      "needs_background": "light"
     },
     "output_type": "display_data"
    }
   ],
   "source": [
    "fig, ax = plt.subplots(figsize=(10,5))\n",
    "plot_data_forecast(fig, ax,\n",
    "                   Y[forecast_start:forecast_end+1],\n",
    "                   forecast, samples,\n",
    "                   dates[forecast_start:forecast_end+1],\n",
    "                   linewidth = 2);"
   ]
  },
  {
   "cell_type": "markdown",
   "metadata": {},
   "source": [
    "We can also look at the correlation matrix of our coefficients, telling us which ones are positively and negatively correlated. Typically, highly correlated variables have negatively correlated coefficients."
   ]
  },
  {
   "cell_type": "code",
   "execution_count": null,
   "metadata": {},
   "outputs": [
    {
     "data": {
      "image/png": "[encoded data removed]",
      "text/plain": [
       "<Figure size 432x432 with 2 Axes>"
      ]
     },
     "metadata": {
      "needs_background": "light"
     },
     "output_type": "display_data"
    }
   ],
   "source": [
    "D = np.sqrt(mod.R.diagonal()).reshape(-1,1)\n",
    "corr = mod.R/D/D.T\n",
    "\n",
    "fig, ax = plt.subplots(figsize=(6,6))\n",
    "plot_corr(fig, ax, corr=corr, labels = ['Intercept', 'Model1', 'Model2', 'Model3', 'Model4']);"
   ]
  },
  {
   "cell_type": "markdown",
   "metadata": {},
   "source": [
    "## Common Latent Factors"
   ]
  },
  {
   "cell_type": "markdown",
   "metadata": {},
   "source": [
    "### Y (outcome) latent factor"
   ]
  },
  {
   "cell_type": "code",
   "execution_count": null,
   "metadata": {},
   "outputs": [],
   "source": [
    "#export\n",
    "def Y_fxn(date, mod, Y, **kwargs):\n",
    "    return Y, 0"
   ]
  },
  {
   "cell_type": "code",
   "execution_count": null,
   "metadata": {},
   "outputs": [],
   "source": [
    "#export\n",
    "def Y_forecast_fxn(date, mod, X, k, nsamps, horizons, forecast_path = False, **kwargs):\n",
    "    #\n",
    "    # Y_mean = [f.mean() for f in forecast]\n",
    "\n",
    "    if forecast_path:\n",
    "        # if isinstance(mod, dlm):\n",
    "        #     mean, var = mod.forecast_path(k=k, X=X, nsamps=nsamps, mean_var = True)\n",
    "        #     Y_mean = [m for m in mean]\n",
    "        #     Y_var = [v for v in var.diagonal()]\n",
    "        #     Y_cov = [var[h,:h].reshape(1,1,h) for h in range(1, k)]\n",
    "        # else:\n",
    "            # print('error')\n",
    "        forecast = mod.forecast_path(k=k, X=X, nsamps=nsamps)\n",
    "        Y_mean = [m for m in forecast.mean(axis=0)]\n",
    "        cov = np.cov(forecast, rowvar=False)\n",
    "        Y_var = [v for v in forecast.var(axis=0)]\n",
    "        Y_cov = [cov[h,:h].reshape(1, 1, -1) for h in range(1, k)]\n",
    "\n",
    "        return Y_mean, Y_var, Y_cov\n",
    "\n",
    "    else:\n",
    "        forecast = list(map(lambda X, k: mod.forecast_marginal(k=k, X=X, nsamps=nsamps),\n",
    "                            X,\n",
    "                            horizons))\n",
    "        Y_mean = list(map(lambda X, k: mod.forecast_marginal(k=k, X=X, mean_only=True),\n",
    "                          X,\n",
    "                          horizons))\n",
    "        Y_var = [f.var() for f in forecast]\n",
    "        return Y_mean, Y_var"
   ]
  },
  {
   "cell_type": "code",
   "execution_count": null,
   "metadata": {},
   "outputs": [],
   "source": [
    "#export\n",
    "Y_lf = latent_factor(gen_fxn = Y_fxn, gen_forecast_fxn = Y_forecast_fxn)"
   ]
  },
  {
   "cell_type": "code",
   "execution_count": null,
   "metadata": {},
   "outputs": [],
   "source": [
    "#exporti\n",
    "# This is a good idea, but note that it does not work with the set analysis fxns,\n",
    "# This forecast must happen BEFORE updating, not after\n",
    "def Y_update_via_forecast_fxn(date, mod, X, nsamps=200, **kwargs):\n",
    "    mean = mod.forecast_marginal(k=1, X=X, mean_only=True)\n",
    "    forecast = mod.forecast_marginal(k=1, X=X)\n",
    "    return mean, forecast.var()"
   ]
  },
  {
   "cell_type": "code",
   "execution_count": null,
   "metadata": {},
   "outputs": [],
   "source": [
    "#exporti\n",
    "Y_forecast_lf = latent_factor(gen_fxn = Y_update_via_forecast_fxn, gen_forecast_fxn = Y_forecast_fxn)"
   ]
  },
  {
   "cell_type": "markdown",
   "metadata": {},
   "source": [
    "### Weekly seasonal latent factor"
   ]
  },
  {
   "cell_type": "code",
   "execution_count": null,
   "metadata": {},
   "outputs": [],
   "source": [
    "#export\n",
    "def seas_weekly_fxn(date, mod, **kwargs):\n",
    "    period = 7\n",
    "    seas_idx = np.where(np.array(mod.seasPeriods) == 7)[0][0]\n",
    "    today = date.dayofweek\n",
    "    m, v = get_seasonal_effect_fxnl(mod.L[seas_idx], mod.m, mod.C, mod.iseas[seas_idx])\n",
    "    weekly_seas_mean = np.zeros(period)\n",
    "    weekly_seas_var = np.zeros([period, period])\n",
    "    weekly_seas_mean[today] = m\n",
    "    weekly_seas_var[today, today] = v\n",
    "\n",
    "    return weekly_seas_mean, weekly_seas_var"
   ]
  },
  {
   "cell_type": "code",
   "execution_count": null,
   "metadata": {},
   "outputs": [],
   "source": [
    "#export\n",
    "def seas_weekly_forecast_fxn(date, mod, k, horizons, forecast_path=False, **kwargs):\n",
    "    period = 7\n",
    "    today = date.dayofweek\n",
    "\n",
    "    if isinstance(mod, dlm):\n",
    "        rt = mod.n / (mod.n-2)\n",
    "    else:\n",
    "        rt = 1\n",
    "\n",
    "    if forecast_path:\n",
    "        weekly_seas_mean, weekly_seas_var, weekly_seas_cov = forecast_path_weekly_seasonal_factor(mod, k, today, period)\n",
    "        return weekly_seas_mean,  [rt * wsv for wsv in weekly_seas_var], [rt * wsc for wsc in weekly_seas_cov]\n",
    "    else:\n",
    "\n",
    "        # Place the weekly seasonal factor into the correct spot in a length 7 vector\n",
    "        future_weekly_seas = list(map(lambda k: forecast_weekly_seasonal_factor(mod, k=k),\n",
    "                                      horizons))\n",
    "        weekly_seas_mean = [np.zeros(period) for i in range(k)]\n",
    "        weekly_seas_var = [np.zeros([period, period]) for i in range(k)]\n",
    "        for i in range(k):\n",
    "            day = (today + i) % period\n",
    "            weekly_seas_mean[i][day] = future_weekly_seas[i][0]\n",
    "            weekly_seas_var[i][day, day] = future_weekly_seas[i][1]\n",
    "\n",
    "        return weekly_seas_mean, [rt * wsv for wsv in weekly_seas_var]"
   ]
  },
  {
   "cell_type": "code",
   "execution_count": null,
   "metadata": {},
   "outputs": [],
   "source": [
    "#export\n",
    "seas_weekly_lf = latent_factor(gen_fxn = seas_weekly_fxn, gen_forecast_fxn=seas_weekly_forecast_fxn)"
   ]
  },
  {
   "cell_type": "markdown",
   "metadata": {},
   "source": [
    "### Holiday latent factor"
   ]
  },
  {
   "cell_type": "code",
   "execution_count": null,
   "metadata": {},
   "outputs": [],
   "source": [
    "#export\n",
    "def hol_fxn(date, mod, X, **kwargs):\n",
    "    is_hol = np.any(X[-mod.nhol:] != 0)\n",
    "    mean = np.zeros(mod.nhol)\n",
    "    var = np.zeros([mod.nhol, mod.nhol])\n",
    "    if is_hol:\n",
    "        idx = np.where(X[-mod.nhol:] != 0)[0][0]\n",
    "        mean[idx] = X[-mod.nhol:] @ mod.m[mod.ihol]\n",
    "        var[idx, idx] = X[-mod.nhol:] @ mod.C[np.ix_(mod.ihol, mod.ihol)] @ X[-mod.nhol:]\n",
    "\n",
    "    return mean, var"
   ]
  },
  {
   "cell_type": "code",
   "execution_count": null,
   "metadata": {},
   "outputs": [],
   "source": [
    "#export\n",
    "def hol_forecast_fxn(date, mod, X, k, horizons, forecast_path=False, **kwargs):\n",
    "\n",
    "    future_holiday_eff = list(map(lambda X, k: forecast_holiday_effect_dlm(mod, X, k),\n",
    "                                  X[:, -mod.nhol:], horizons))\n",
    "    hol_mean = [np.zeros(mod.nhol) for h in range(k)]\n",
    "    hol_var = [np.zeros([mod.nhol, mod.nhol]) for h in range(k)]\n",
    "\n",
    "    if forecast_path:\n",
    "        hol_cov = [np.zeros([mod.nhol, mod.nhol, h]) for h in range(1, k)]\n",
    "        nonzero_holidays = {}\n",
    "\n",
    "        for h in range(k):\n",
    "            if future_holiday_eff[h][0] != 0:\n",
    "                idx = np.where(X[h, -mod.nhol:] != 0)[0][0]\n",
    "                hol_mean[h][idx] = future_holiday_eff[h][0]\n",
    "                hol_var[h][idx, idx] = future_holiday_eff[h][1]\n",
    "\n",
    "                for j, idx_j in nonzero_holidays.items():\n",
    "                    hol_cov[h-1][idx, idx_j, j] = hol_cov[h-1][idx_j, idx, j] = X[j, -mod.nhol:] @ forecast_R_cov(mod, j, h)[np.ix_(mod.ihol, mod.ihol)] @ X[h, -mod.nhol:].T\n",
    "\n",
    "                nonzero_holidays.update({h:idx})\n",
    "\n",
    "        return hol_mean, hol_var, hol_cov\n",
    "\n",
    "    else:\n",
    "        for h in range(k):\n",
    "            if future_holiday_eff[h][0] != 0:\n",
    "                idx = np.where(X[h, -mod.nhol:] != 0)[0][0]\n",
    "                hol_mean[h][idx] = future_holiday_eff[h][0]\n",
    "                hol_var[h][idx, idx] = future_holiday_eff[h][1]\n",
    "\n",
    "\n",
    "        return hol_mean, hol_var"
   ]
  },
  {
   "cell_type": "code",
   "execution_count": null,
   "metadata": {},
   "outputs": [],
   "source": [
    "#export\n",
    "hol_lf = latent_factor(gen_fxn = hol_fxn, gen_forecast_fxn=hol_forecast_fxn)"
   ]
  },
  {
   "cell_type": "markdown",
   "metadata": {},
   "source": [
    "This example demonstrates how to use the observation, seasonal, and holiday latent factors. The dataset contains simulated retail sales. `totaldata` are the daily total store sales, and `data` are the daily sales of a single item. We will fit a normal DLM to the log of total sales, and use it to learn the desired latent factors. These latent factors will then become predictors the sales of the individual item. This is considered a multiscale analysis because of the hierarchical relationship between the two time series.\n",
    "\n",
    "First we load in the data:"
   ]
  },
  {
   "cell_type": "code",
   "execution_count": null,
   "metadata": {},
   "outputs": [
    {
     "data": {
      "text/html": [
       "<div>\n",
       "<style scoped>\n",
       "    .dataframe tbody tr th:only-of-type {\n",
       "        vertical-align: middle;\n",
       "    }\n",
       "\n",
       "    .dataframe tbody tr th {\n",
       "        vertical-align: top;\n",
       "    }\n",
       "\n",
       "    .dataframe thead th {\n",
       "        text-align: right;\n",
       "    }\n",
       "</style>\n",
       "<table border=\"1\" class=\"dataframe\">\n",
       "  <thead>\n",
       "    <tr style=\"text-align: right;\">\n",
       "      <th></th>\n",
       "      <th>Y</th>\n",
       "      <th>X</th>\n",
       "    </tr>\n",
       "  </thead>\n",
       "  <tbody>\n",
       "    <tr>\n",
       "      <th>2014-06-01</th>\n",
       "      <td>5.613128</td>\n",
       "      <td>-0.133124</td>\n",
       "    </tr>\n",
       "    <tr>\n",
       "      <th>2014-06-02</th>\n",
       "      <td>5.602119</td>\n",
       "      <td>-0.070102</td>\n",
       "    </tr>\n",
       "    <tr>\n",
       "      <th>2014-06-03</th>\n",
       "      <td>5.831882</td>\n",
       "      <td>1.020901</td>\n",
       "    </tr>\n",
       "    <tr>\n",
       "      <th>2014-06-04</th>\n",
       "      <td>5.393628</td>\n",
       "      <td>2.219605</td>\n",
       "    </tr>\n",
       "    <tr>\n",
       "      <th>2014-06-05</th>\n",
       "      <td>5.267858</td>\n",
       "      <td>-0.970556</td>\n",
       "    </tr>\n",
       "  </tbody>\n",
       "</table>\n",
       "</div>"
      ],
      "text/plain": [
       "                   Y         X\n",
       "2014-06-01  5.613128 -0.133124\n",
       "2014-06-02  5.602119 -0.070102\n",
       "2014-06-03  5.831882  1.020901\n",
       "2014-06-04  5.393628  2.219605\n",
       "2014-06-05  5.267858 -0.970556"
      ]
     },
     "execution_count": null,
     "metadata": {},
     "output_type": "execute_result"
    }
   ],
   "source": [
    "import matplotlib.pyplot as plt\n",
    "\n",
    "from pybats.plot import plot_data_forecast\n",
    "from pybats.latent_factor import Y_lf, seas_weekly_lf, hol_lf, multi_latent_factor\n",
    "from pybats.shared import load_dcmm_latent_factor_example\n",
    "from pybats.analysis import analysis\n",
    "from pandas.tseries.holiday import USFederalHolidayCalendar\n",
    "from pybats.point_forecast import median\n",
    "\n",
    "data = load_dcmm_latent_factor_example()\n",
    "totaldata, data = data.values()\n",
    "totaldata['Y'] = np.log(totaldata['Y'] + 1)\n",
    "\n",
    "totaldata.head()"
   ]
  },
  {
   "cell_type": "markdown",
   "metadata": {},
   "source": [
    "And then run a standard analysis for the normal DLM. We will send in the list of empty `new_latent_factors` that will be populated by model. We also need to specify `ret` so that latent factors are returned from this analysis.\n",
    "\n",
    "Defining the forecast dates is important, even though we aren't trying to forecast the total sales. We need to forecast the latent factor so it can be used as a predictor in the individual item forecast."
   ]
  },
  {
   "cell_type": "code",
   "execution_count": null,
   "metadata": {},
   "outputs": [
    {
     "name": "stdout",
     "output_type": "stream",
     "text": [
      "beginning forecasting\n"
     ]
    }
   ],
   "source": [
    "#Define hyper parameters\n",
    "k = 14 # Number of days ahead that we will forecast\n",
    "prior_length = 21\n",
    "holidays=USFederalHolidayCalendar.rules\n",
    "\n",
    "# Define forecast range for final year of data\n",
    "T = len(totaldata)\n",
    "forecast_end_date = totaldata.index[-k]\n",
    "forecast_start_date = forecast_end_date - pd.DateOffset(days=365)\n",
    "\n",
    "# Get multiscale signal (a latent factor) from higher level log-normal model\n",
    "latent_factors = analysis(totaldata['Y'].values, totaldata['X'].values, k,\n",
    "                         forecast_start_date, forecast_end_date,\n",
    "                         family=\"normal\", dates=totaldata.index,\n",
    "                         seasPeriods=[7], seasHarmComponents=[[1,2,3]],\n",
    "                         holidays=holidays,\n",
    "                         ret=['new_latent_factors'],\n",
    "                         new_latent_factors= [Y_lf, seas_weekly_lf, hol_lf],\n",
    "                         prior_length=prior_length)"
   ]
  },
  {
   "cell_type": "markdown",
   "metadata": {},
   "source": [
    "We now have a list of the 3 latent factors, which have been populated by the model. We can see their respective dimensions below:"
   ]
  },
  {
   "cell_type": "code",
   "execution_count": null,
   "metadata": {},
   "outputs": [
    {
     "data": {
      "text/plain": [
       "[1, 7, 10]"
      ]
     },
     "execution_count": null,
     "metadata": {},
     "output_type": "execute_result"
    }
   ],
   "source": [
    "[lf.p for lf in latent_factors]"
   ]
  },
  {
   "cell_type": "markdown",
   "metadata": {},
   "source": [
    "The first latent factor is `Y_lf`, which stores both the actual total sales and the forecast total sales. The second is `seas_weekly_lf`, which is a $7-$dimensional vector. Each day, the element for today is populated with the estimated seasonal effect, while the other $6$ values are set to $0$. Finally, we defined $10$ holidays. This latent factor is only populated on the holidays themselves, so it is mostly just $0$.\n",
    "\n",
    "We can get the update mean for each latent factor at any given date:"
   ]
  },
  {
   "cell_type": "code",
   "execution_count": null,
   "metadata": {},
   "outputs": [
    {
     "name": "stdout",
     "output_type": "stream",
     "text": [
      "Total Sales mean: 5.56\n",
      "Weekly Seasonal mean: [ 0.    0.    0.    0.   -0.06  0.    0.  ]\n",
      "Holiday mean: [0. 0. 0. 0. 0. 0. 0. 0. 0. 0.]\n"
     ]
    }
   ],
   "source": [
    "latent_factor_names = ['Total Sales', 'Weekly Seasonal', 'Holiday']\n",
    "for lf, name in zip(latent_factors, latent_factor_names):\n",
    "    print(name + ' mean:', lf.get_lf(forecast_start_date)[0].round(2))"
   ]
  },
  {
   "cell_type": "markdown",
   "metadata": {},
   "source": [
    "And also the forecast mean for any date in the forecast window. Here are the $1:14$ day ahead forecasts for the total sales:"
   ]
  },
  {
   "cell_type": "code",
   "execution_count": null,
   "metadata": {},
   "outputs": [
    {
     "name": "stdout",
     "output_type": "stream",
     "text": [
      "Total Sales forecast mean:  [5.42 5.65 5.76 5.56 5.39 5.36 5.35 5.43 5.63 5.8  5.13 5.38 5.36 5.35]\n"
     ]
    }
   ],
   "source": [
    "print(latent_factor_names[0] + ' forecast mean: ', np.array(latent_factors[0].get_lf_forecast(forecast_start_date)[0]).round(2))"
   ]
  },
  {
   "cell_type": "markdown",
   "metadata": {},
   "source": [
    "The $14-$day ahead forecast of the seasonal effects makes it clear how the latent factor works:"
   ]
  },
  {
   "cell_type": "code",
   "execution_count": null,
   "metadata": {},
   "outputs": [
    {
     "name": "stdout",
     "output_type": "stream",
     "text": [
      "Weekly Seasonal forecast mean: \n",
      "[[ 0.    0.    0.    0.   -0.06  0.    0.  ]\n",
      " [ 0.    0.    0.    0.    0.    0.15  0.  ]\n",
      " [ 0.    0.    0.    0.    0.    0.    0.29]\n",
      " [ 0.03  0.    0.    0.    0.    0.    0.  ]\n",
      " [ 0.   -0.12  0.    0.    0.    0.    0.  ]\n",
      " [ 0.    0.   -0.13  0.    0.    0.    0.  ]\n",
      " [ 0.    0.    0.   -0.15  0.    0.    0.  ]\n",
      " [ 0.    0.    0.    0.   -0.06  0.    0.  ]\n",
      " [ 0.    0.    0.    0.    0.    0.15  0.  ]\n",
      " [ 0.    0.    0.    0.    0.    0.    0.29]\n",
      " [ 0.03  0.    0.    0.    0.    0.    0.  ]\n",
      " [ 0.   -0.12  0.    0.    0.    0.    0.  ]\n",
      " [ 0.    0.   -0.13  0.    0.    0.    0.  ]\n",
      " [ 0.    0.    0.   -0.15  0.    0.    0.  ]]\n"
     ]
    }
   ],
   "source": [
    "print(latent_factor_names[1] + ' forecast mean: ')\n",
    "print(np.array(latent_factors[1].get_lf_forecast(forecast_start_date)[0]).round(2))"
   ]
  },
  {
   "cell_type": "markdown",
   "metadata": {},
   "source": [
    "The same output can be created for the holiday latent factor, but it will be all $0$'s except when there is a holiday in the next $14$ days.\n",
    "\n",
    "Now let's combine these latent factors into a single `multi_latent_factor`, and put them to use in an analysis of the individual item sales. First we create the multi latent factor:"
   ]
  },
  {
   "cell_type": "code",
   "execution_count": null,
   "metadata": {},
   "outputs": [
    {
     "name": "stdout",
     "output_type": "stream",
     "text": [
      "Total dimension : 18\n"
     ]
    }
   ],
   "source": [
    "multi_lf = multi_latent_factor(latent_factors[:3])\n",
    "print('Total dimension :', multi_lf.p)"
   ]
  },
  {
   "cell_type": "markdown",
   "metadata": {},
   "source": [
    "And then we run a standard analysis, while passing in the multi_lf as our latent factor. We're setting the discount factor on the latent factor component as `dellf=1`, which means no discounting. This is because the weekly seasonal pattern and holidays are $0$ so often. Another option would be to define `dellf` as an $18-$dimensional vector, with a separate discount factor for each element of the latent factor."
   ]
  },
  {
   "cell_type": "code",
   "execution_count": null,
   "metadata": {},
   "outputs": [
    {
     "name": "stdout",
     "output_type": "stream",
     "text": [
      "beginning forecasting\n"
     ]
    }
   ],
   "source": [
    "# Update and forecast the model\n",
    "nsamps = 1000\n",
    "\n",
    "mod, forecast_samples = analysis(data['Y'].values, data['X'].values, k,\n",
    "                                 forecast_start_date, forecast_end_date,\n",
    "                                 nsamps=nsamps,\n",
    "                                 latent_factor = multi_lf,\n",
    "                                 dates=data.index,\n",
    "                                 prior_length = prior_length,\n",
    "                                 s0=5, dellf=1)\n",
    "\n",
    "forecast = median(forecast_samples)"
   ]
  },
  {
   "cell_type": "markdown",
   "metadata": {},
   "source": [
    "Looking at the forecasts, we can see a weekly seasonal pattern come through from the latent factors:"
   ]
  },
  {
   "cell_type": "code",
   "execution_count": null,
   "metadata": {},
   "outputs": [
    {
     "data": {
      "image/png": "[encoded data removed]",
      "text/plain": [
       "<Figure size 576x288 with 1 Axes>"
      ]
     },
     "metadata": {
      "needs_background": "light"
     },
     "output_type": "display_data"
    }
   ],
   "source": [
    "# Plotting 1-step ahead forecasts\n",
    "horizon = 1 \n",
    "plot_length = 50\n",
    "fig, ax = plt.subplots(figsize=(8,4))\n",
    "start_date = forecast_end_date + pd.DateOffset(horizon - plot_length)\n",
    "end_date = forecast_end_date + pd.DateOffset(horizon - 1)\n",
    "ax = plot_data_forecast(fig, ax,\n",
    "                        data.loc[start_date:end_date].Y,\n",
    "                        forecast[-plot_length:,horizon - 1],\n",
    "                        forecast_samples[:,-plot_length:,horizon - 1],\n",
    "                        data.loc[start_date:end_date].index,\n",
    "                        linewidth = 2)"
   ]
  },
  {
   "cell_type": "markdown",
   "metadata": {},
   "source": [
    "And the same is true in the 14-day ahead forecast:"
   ]
  },
  {
   "cell_type": "code",
   "execution_count": null,
   "metadata": {},
   "outputs": [
    {
     "data": {
      "image/png": "[encoded data removed]",
      "text/plain": [
       "<Figure size 576x288 with 1 Axes>"
      ]
     },
     "metadata": {
      "needs_background": "light"
     },
     "output_type": "display_data"
    }
   ],
   "source": [
    "# Plotting 14-step ahead forecasts\n",
    "horizon = 14 \n",
    "plot_length = 50\n",
    "fig, ax = plt.subplots(figsize=(8,4))\n",
    "start_date = forecast_end_date + pd.DateOffset(horizon - plot_length)\n",
    "end_date = forecast_end_date + pd.DateOffset(horizon - 1)\n",
    "ax = plot_data_forecast(fig, ax,\n",
    "                        data.loc[start_date:end_date].Y,\n",
    "                        forecast[-plot_length:,horizon - 1],\n",
    "                        forecast_samples[:,-plot_length:,horizon - 1],\n",
    "                        data.loc[start_date:end_date].index,\n",
    "                        linewidth = 2)"
   ]
  },
  {
   "cell_type": "markdown",
   "metadata": {},
   "source": [
    "### Model coefficient latent factors"
   ]
  },
  {
   "cell_type": "code",
   "execution_count": null,
   "metadata": {},
   "outputs": [],
   "source": [
    "#export\n",
    "def pois_coef_fxn(date, mod, idx = None, **kwargs):\n",
    "    if type(mod) == dbcm:\n",
    "        if idx is None:\n",
    "            idx = np.arange(0, len(mod.dcmm.pois_mod.m))\n",
    "\n",
    "        return mod.dcmm.pois_mod.m[idx].copy().reshape(-1), mod.dcmm.pois_mod.C[np.ix_(idx, idx)].copy()\n",
    "    if type(mod) == dcmm:\n",
    "        if idx is None:\n",
    "            idx = np.arange(0, len(mod.pois_mod.m))\n",
    "\n",
    "        return mod.pois_mod.m[idx].copy().reshape(-1), mod.pois_mod.C[np.ix_(idx, idx)].copy()"
   ]
  },
  {
   "cell_type": "code",
   "execution_count": null,
   "metadata": {},
   "outputs": [],
   "source": [
    "#export\n",
    "def pois_coef_forecast_fxn(date, mod, k, idx=None, **kwargs):\n",
    "    if type(mod) == dbcm:\n",
    "        if idx is None:\n",
    "            idx = np.arange(0, len(mod.dcmm.pois_mod.m))\n",
    "\n",
    "        pois_coef_mean = []\n",
    "        pois_coef_var = []\n",
    "        for j in range(1, k + 1):\n",
    "            a, R = forecast_aR(mod.dcmm.pois_mod, j)\n",
    "            pois_coef_mean.append(a[idx].copy().reshape(-1))\n",
    "            pois_coef_var.append(R[np.ix_(idx, idx)].copy())\n",
    "        return pois_coef_mean, pois_coef_var\n",
    "    if type(mod) == dcmm:\n",
    "        if idx is None:\n",
    "            idx = np.arange(0, len(mod.pois_mod.m))\n",
    "\n",
    "        pois_coef_mean = []\n",
    "        pois_coef_var = []\n",
    "        for j in range(1, k + 1):\n",
    "            a, R = forecast_aR(mod.pois_mod, j)\n",
    "            pois_coef_mean.append(a[idx].copy().reshape(-1))\n",
    "            pois_coef_var.append(R[np.ix_(idx, idx)].copy())\n",
    "        return pois_coef_mean, pois_coef_var"
   ]
  },
  {
   "cell_type": "code",
   "execution_count": null,
   "metadata": {},
   "outputs": [],
   "source": [
    "#export\n",
    "pois_coef_lf = latent_factor(gen_fxn = pois_coef_fxn, gen_forecast_fxn=pois_coef_forecast_fxn)"
   ]
  },
  {
   "cell_type": "code",
   "execution_count": null,
   "metadata": {},
   "outputs": [],
   "source": [
    "#export\n",
    "def bern_coef_fxn(date, mod, idx = None, **kwargs):\n",
    "    if type(mod) == dbcm:\n",
    "        if idx is None:\n",
    "            idx = np.arange(0, len(mod.dcmm.bern_mod.m))\n",
    "\n",
    "        return mod.dcmm.bern_mod.m[idx].copy().reshape(-1), mod.dcmm.bern_mod.C[np.ix_(idx, idx)].copy()\n",
    "    if type(mod) == dcmm:\n",
    "        if idx is None:\n",
    "            idx = np.arange(0, len(mod.bern_mod.m))\n",
    "\n",
    "        return mod.bern_mod.m[idx].copy().reshape(-1), mod.bern_mod.C[np.ix_(idx, idx)].copy()"
   ]
  },
  {
   "cell_type": "code",
   "execution_count": null,
   "metadata": {},
   "outputs": [],
   "source": [
    "#export\n",
    "def bern_coef_forecast_fxn(date, mod, k, idx = None, **kwargs):\n",
    "    if type(mod) == dbcm:\n",
    "        if idx is None:\n",
    "            idx = np.arange(0, len(mod.dcmm.bern_mod.m))\n",
    "\n",
    "        bern_coef_mean = []\n",
    "        bern_coef_var = []\n",
    "        for j in range(1, k + 1):\n",
    "            a, R = forecast_aR(mod.dcmm.bern_mod, j)\n",
    "            bern_coef_mean.append(a[idx].copy().reshape(-1))\n",
    "            bern_coef_var.append(R[np.ix_(idx, idx)].copy())\n",
    "        return bern_coef_mean, bern_coef_var\n",
    "\n",
    "    if type(mod) == dcmm:\n",
    "        if idx is None:\n",
    "            idx = np.arange(0, len(mod.bern_mod.m))\n",
    "\n",
    "        bern_coef_mean = []\n",
    "        bern_coef_var = []\n",
    "        for j in range(1, k + 1):\n",
    "            a, R = forecast_aR(mod.dcmm.bern_mod, j)\n",
    "            bern_coef_mean.append(a[idx].copy().reshape(-1))\n",
    "            bern_coef_var.append(R[np.ix_(idx, idx)].copy())\n",
    "        return bern_coef_mean, bern_coef_var"
   ]
  },
  {
   "cell_type": "code",
   "execution_count": null,
   "metadata": {},
   "outputs": [],
   "source": [
    "#export\n",
    "bern_coef_lf = latent_factor(gen_fxn=bern_coef_fxn, gen_forecast_fxn=bern_coef_forecast_fxn)"
   ]
  },
  {
   "cell_type": "code",
   "execution_count": null,
   "metadata": {},
   "outputs": [],
   "source": [
    "#export\n",
    "def dlm_coef_fxn(date, mod, idx = None, **kwargs):\n",
    "    if idx is None:\n",
    "        idx = np.arange(0, len(mod.m))\n",
    "\n",
    "    return mod.m[idx].copy().reshape(-1), mod.C[np.ix_(idx, idx)].copy()"
   ]
  },
  {
   "cell_type": "code",
   "execution_count": null,
   "metadata": {},
   "outputs": [],
   "source": [
    "#export\n",
    "def dlm_coef_forecast_fxn(date, mod, k, idx=None, forecast_path=False, **kwargs):\n",
    "    if idx is None:\n",
    "        idx = np.arange(0, len(mod.m))\n",
    "\n",
    "    p = len(idx)\n",
    "\n",
    "    dlm_coef_mean = []\n",
    "    dlm_coef_var = []\n",
    "    if forecast_path:\n",
    "        dlm_coef_cov = [np.zeros([p, p, h]) for h in range(1, k)]\n",
    "\n",
    "    for j in range(1, k + 1):\n",
    "        a, R = forecast_aR(mod, j)\n",
    "        dlm_coef_mean.append(a[idx].copy().reshape(-1))\n",
    "        dlm_coef_var.append(R[np.ix_(idx, idx)].copy())\n",
    "\n",
    "        if forecast_path:\n",
    "            if j > 1:\n",
    "                for i in range(1, j):\n",
    "                    dlm_coef_cov[j-2][:,:,i-1] = forecast_R_cov(mod, i, j)[np.ix_(idx, idx)]\n",
    "\n",
    "    if forecast_path:\n",
    "        return dlm_coef_mean, dlm_coef_var, dlm_coef_cov\n",
    "    else:\n",
    "        return dlm_coef_mean, dlm_coef_var"
   ]
  },
  {
   "cell_type": "code",
   "execution_count": null,
   "metadata": {},
   "outputs": [],
   "source": [
    "#export\n",
    "dlm_coef_lf = latent_factor(gen_fxn = dlm_coef_fxn, gen_forecast_fxn=dlm_coef_forecast_fxn)"
   ]
  },
  {
   "cell_type": "markdown",
   "metadata": {},
   "source": [
    "The model coefficient latent factors are easy to understand. They store the state vector means and variances over time. If we simply wanted to plot the trajectory of a coefficient after an analysis, we don't need to use a latent factor. This is available in `analysis` by including `'model_coef'` in the list of items to return.\n",
    "\n",
    "However, the latent factor can be useful for forecasting in two related models. For example, if there are two time series with very related predictors, then the coefficient from one model, multiplied by the predictor, may be a strong latent factor in another model."
   ]
  },
  {
   "cell_type": "code",
   "execution_count": null,
   "metadata": {},
   "outputs": [],
   "source": [
    "#exporti\n",
    "def dlm_dof_fxn(date, mod, **kwargs):\n",
    "    return mod.n, 0"
   ]
  },
  {
   "cell_type": "code",
   "execution_count": null,
   "metadata": {},
   "outputs": [],
   "source": [
    "#exporti\n",
    "def dlm_dof_forecast_fxn(date, mod, k, **kwargs):\n",
    "    return [mod.n for x in range(k)], [0 for x in range(k)]"
   ]
  },
  {
   "cell_type": "code",
   "execution_count": null,
   "metadata": {},
   "outputs": [],
   "source": [
    "#export\n",
    "dlm_dof_lf = latent_factor(gen_fxn = dlm_dof_fxn, gen_forecast_fxn=dlm_dof_forecast_fxn)"
   ]
  },
  {
   "cell_type": "markdown",
   "metadata": {},
   "source": [
    "### Helper Functions"
   ]
  },
  {
   "cell_type": "code",
   "execution_count": null,
   "metadata": {},
   "outputs": [],
   "source": [
    "#exporti\n",
    "def copy_fxn(date, latent_factor):\n",
    "    s = latent_factor.get_lf(date)\n",
    "    return copy.deepcopy(s[0]), copy.deepcopy(s[1])"
   ]
  },
  {
   "cell_type": "code",
   "execution_count": null,
   "metadata": {},
   "outputs": [],
   "source": [
    "#exporti\n",
    "def copy_forecast_fxn(date, latent_factor):\n",
    "    means = []\n",
    "    vars = []\n",
    "    ms, vs = latent_factor.get_lf_forecast(date)\n",
    "    for h in range(latent_factor.k):\n",
    "        means.append(copy.deepcopy(ms[h]))\n",
    "        vars.append(copy.deepcopy(vs[h]))\n",
    "    return means, vars"
   ]
  },
  {
   "cell_type": "code",
   "execution_count": null,
   "metadata": {},
   "outputs": [],
   "source": [
    "#export\n",
    "def merge_fxn(date, latent_factors, **kwargs):\n",
    "    if latent_factors[0].p == 1:\n",
    "        m = np.array([float(lf.get_lf(date)[0]) for lf in latent_factors])\n",
    "        v = np.array([float(lf.get_lf(date)[1]) for lf in latent_factors])\n",
    "        p = 1 / v\n",
    "        return np.sum(m * p) / np.sum(p), 1 / np.sum(p)\n",
    "    else:\n",
    "        ms = [lf.get_lf(date)[0] for lf in latent_factors]\n",
    "        vs = [lf.get_lf(date)[1] for lf in latent_factors]\n",
    "        ps = [np.linalg.inv(v) for v in vs]\n",
    "        m = np.sum([p @ m.reshape(-1,1) for m, p in zip(ms, ps)], axis=0)\n",
    "        v = np.linalg.inv(np.sum(ps, axis=0))\n",
    "        mean = v @ m\n",
    "        return mean.reshape(-1), v"
   ]
  },
  {
   "cell_type": "code",
   "execution_count": null,
   "metadata": {},
   "outputs": [],
   "source": [
    "#export\n",
    "def merge_forecast_fxn(date, latent_factors, **kwargs):\n",
    "    k = np.min([lf.k for lf in latent_factors])\n",
    "    lf_mean = []\n",
    "    lf_var = []\n",
    "    if latent_factors[0].p == 1:\n",
    "        ms, vs = list(zip(*[lf.get_lf_forecast(date) for lf in latent_factors]))\n",
    "        for h in range(k):\n",
    "            m = np.array([float(m[h]) for m in ms])\n",
    "            v = np.array([float(v[h]) for v in vs])\n",
    "            p = 1 / v\n",
    "            lf_mean.append(np.sum(m * p) / np.sum(p))\n",
    "            lf_var.append(1 / np.sum(p))\n",
    "        return lf_mean, lf_var\n",
    "    else:\n",
    "        ms, vs = list(zip(*[lf.get_lf_forecast(date) for lf in latent_factors]))\n",
    "        ps = [[np.linalg.inv(var) for var in v] for v in vs]\n",
    "        for h in range(k):\n",
    "            m = np.sum([p[h] @ m[h].reshape(-1, 1) for m, p in zip(ms, ps)], axis=0)\n",
    "            v = np.linalg.inv(np.sum([p[h] for p in ps], axis=0))\n",
    "            mean = v @ m\n",
    "            lf_mean.append(mean.reshape(-1))\n",
    "            lf_var.append(v)\n",
    "        return lf_mean, lf_var"
   ]
  },
  {
   "cell_type": "code",
   "execution_count": null,
   "metadata": {},
   "outputs": [],
   "source": [
    "#export\n",
    "def merge_latent_factors(latent_factors):\n",
    "\n",
    "    # Set the start and end dates\n",
    "    start_date = np.min([lf.start_date for lf in latent_factors])\n",
    "    end_date = np.max([lf.end_date for lf in latent_factors])\n",
    "    dates = pd.date_range(start_date, end_date)\n",
    "\n",
    "    # Set the start and end forecast dates\n",
    "    forecast_start_date = np.min([lf.forecast_start_date for lf in latent_factors])\n",
    "    forecast_end_date = np.max([lf.forecast_end_date for lf in latent_factors])\n",
    "    forecast_dates = pd.date_range(forecast_start_date, forecast_end_date)\n",
    "\n",
    "    # Create a new latent factor\n",
    "    merged_lf = latent_factor(gen_fxn = merge_fxn,\n",
    "                              gen_forecast_fxn = merge_forecast_fxn)\n",
    "\n",
    "    for date in dates:\n",
    "        merged_lf.generate_lf(date, latent_factors=[lf for lf in latent_factors if lf.dates.isin([date]).any()])\n",
    "\n",
    "    for date in forecast_dates:\n",
    "        merged_lf.generate_lf_forecast(date, latent_factors=[lf for lf in latent_factors if lf.forecast_dates.isin([date]).any()])\n",
    "\n",
    "    merged_lf.append_lf()\n",
    "    merged_lf.append_lf_forecast()\n",
    "\n",
    "    return merged_lf"
   ]
  },
  {
   "cell_type": "markdown",
   "metadata": {},
   "source": [
    "`merge_latent_factors` is used to average together a set of latent factors. An example usage: There are a set of models, all with the same regression predictor. The coefficient latent factor is saved from an analysis. This function will produce a new latent factor which is the precision-weighted average effect from that coefficient."
   ]
  },
  {
   "cell_type": "code",
   "execution_count": null,
   "metadata": {},
   "outputs": [],
   "source": [
    "#export\n",
    "def merge_lf_with_predictor(latent_factor, X, X_dates):\n",
    "\n",
    "    newlf = latent_factor.copy()\n",
    "\n",
    "    X = pd.DataFrame(X, index=X_dates)\n",
    "    if latent_factor.p == 1:\n",
    "\n",
    "        for date in newlf.dates:\n",
    "            if X_dates.isin([date]).any():\n",
    "                newlf.mean.loc[date] *= X.loc[date].values\n",
    "                newlf.var.loc[date] *= (X.loc[date].values ** 2)\n",
    "            else:\n",
    "                newlf.mean.drop(date, inplace=True)\n",
    "                newlf.var.drop(date, inplace=True)\n",
    "\n",
    "        for date in newlf.forecast_dates:\n",
    "            if X_dates.isin([date]).any():\n",
    "\n",
    "                # m = newlf.forecast_mean.loc[date]\n",
    "                # v = newlf.forecast_var.loc[date]\n",
    "                for h in range(newlf.k):\n",
    "                    newlf.forecast_mean.loc[date][h] *= X.loc[date + pd.DateOffset(days=h)].values\n",
    "                    newlf.forecast_var.loc[date][h] *= (X.loc[date + pd.DateOffset(days=h)].values ** 2)\n",
    "                # newlf.forecast_mean.loc[date] = m\n",
    "                # newlf.forecast_var.loc[date] = v\n",
    "\n",
    "                if newlf.forecast_path:\n",
    "                    # c = newlf.forecast_cov.loc[date]\n",
    "                    for h in range(1, newlf.k):\n",
    "                        for j in range(h):\n",
    "                            newlf.forecast_cov.loc[date][h-1][:,:,j] *= X.loc[date + pd.DateOffset(days=j)].values * X.loc[date + pd.DateOffset(days=h)].values\n",
    "                    # newlf.forecast_cov.loc[date] = c\n",
    "            else:\n",
    "                newlf.forecast_mean.drop(date, inplace=True)\n",
    "                newlf.forecast_var.drop(date, inplace=True)\n",
    "\n",
    "                if newlf.forecast_path:\n",
    "                    newlf.forecast_cov.drop(date, inplace=True)\n",
    "\n",
    "\n",
    "    else:\n",
    "        for date in newlf.dates:\n",
    "            if X_dates.isin([date]).any():\n",
    "                newlf.mean.loc[date] *= X.loc[date].values\n",
    "                newlf.var.loc[date] *= X.loc[date].values.reshape(-1,1) @ X.loc[date].values.reshape(1,-1)\n",
    "            else:\n",
    "                newlf.mean.drop(date, inplace=True)\n",
    "                newlf.var.drop(date, inplace=True)\n",
    "\n",
    "        for date in newlf.forecast_dates:\n",
    "            if X_dates.isin([date]).any():\n",
    "                # m = newlf.forecast_mean.loc[date]\n",
    "                # v = newlf.forecast_var.loc[date]\n",
    "                for h in range(newlf.k):\n",
    "                    newlf.forecast_mean.loc[date][h] *= X.loc[date + pd.DateOffset(days=h)].values\n",
    "                    newlf.forecast_var.loc[date][h] *= X.loc[date + pd.DateOffset(days=h)].values.reshape(-1,1) @ X.loc[date + pd.DateOffset(days=h)].values.reshape(1,-1)\n",
    "                # newlf.forecast_mean.loc[date] = m\n",
    "                # newlf.forecast_var.loc[date] = v\n",
    "\n",
    "                if newlf.forecast_path:\n",
    "                    # c = newlf.forecast_cov.loc[date]\n",
    "                    for h in range(1, newlf.k):\n",
    "                        for j in range(h):\n",
    "                            newlf.forecast_cov.loc[date][h-1][:,:,j] *= X.loc[date + pd.DateOffset(days=j)].values.reshape(-1,1) @ X.loc[date + pd.DateOffset(days=h)].values.reshape(1,-1)\n",
    "\n",
    "                    # newlf.forecast_cov.loc[date] = c\n",
    "\n",
    "            else:\n",
    "                newlf.forecast_mean.drop(date, inplace=True)\n",
    "                newlf.forecast_var.drop(date, inplace=True)\n",
    "\n",
    "                if newlf.forecast_path:\n",
    "                    newlf.forecast_cov.drop(date, inplace=True)\n",
    "\n",
    "    return newlf"
   ]
  },
  {
   "cell_type": "markdown",
   "metadata": {},
   "source": [
    "The function `merge_lf_with_predictor` multiplies a latent factor by a known predictor. This is useful in combination with the coefficient latent factors. To save a regression effect, the coefficient latent factor can store the dynamic coefficient from an analysis. Then, that latent factor can be multiplied by the predictor, to produce the full regression effect."
   ]
  },
  {
   "cell_type": "code",
   "execution_count": null,
   "metadata": {},
   "outputs": [],
   "source": [
    "#exporti\n",
    "def pct_chg_from_lf_avg(latent_factor, window=10):\n",
    "\n",
    "    def pct_chg_gen(date, ma, lf):\n",
    "        m = 100 * (lf.mean.loc[date] - ma.loc[date]) / ma.loc[date]\n",
    "        v = lf.var.loc[date] * (100 / ma.loc[date]) ** 2\n",
    "        return m, v\n",
    "\n",
    "    def pct_chg_gen_forecast(date, ma, k, lf):\n",
    "        m = []\n",
    "        v = []\n",
    "        for h in range(lf.k):\n",
    "            m.append(100 * ((lf.forecast_mean.loc[date][h] - ma.loc[date]) / ma.loc[date]))\n",
    "            v.append(lf.forecast_var.loc[date][h] * (100 / ma.loc[date]) ** 2)\n",
    "\n",
    "        return m, v\n",
    "\n",
    "\n",
    "    ma = latent_factor.mean.rolling(window=window, min_periods=1).mean()\n",
    "    ma = pd.Series(ma, index=latent_factor.dates)\n",
    "\n",
    "    newlf = latent_factor(gen_fxn = partial(pct_chg_gen, lf=latent_factor, ma=ma), gen_forecast_fxn=partial(pct_chg_gen_forecast, lf=latent_factor, ma=ma, k=latent_factor.k))\n",
    "\n",
    "    for date in latent_factor.dates:\n",
    "        newlf.generate_lf(date)\n",
    "\n",
    "    for date in latent_factor.forecast_dates:\n",
    "        newlf.generate_lf_forecast(date)\n",
    "\n",
    "    newlf.append_lf()\n",
    "    newlf.append_lf_forecast()\n",
    "\n",
    "    return newlf"
   ]
  },
  {
   "cell_type": "code",
   "execution_count": null,
   "metadata": {},
   "outputs": [],
   "source": [
    "#exporti\n",
    "def forecast_holiday_effect_dlm(mod, X, k):\n",
    "    a, R = forecast_aR(mod, k)\n",
    "\n",
    "    mean = X.T @ a[mod.ihol]\n",
    "    var = (mod.n / (mod.n - 2)) * (X.T @ R[np.ix_(mod.ihol, mod.ihol)] @ X + mod.s)\n",
    "    return mean, var"
   ]
  },
  {
   "cell_type": "code",
   "execution_count": null,
   "metadata": {},
   "outputs": [
    {
     "name": "stdout",
     "output_type": "stream",
     "text": [
      "Converted 00_dglm.ipynb.\n",
      "Converted 01_update.ipynb.\n",
      "Converted 02_forecast.ipynb.\n",
      "Converted 03_define_models.ipynb.\n",
      "Converted 04_seasonal.ipynb.\n",
      "Converted 05_analysis.ipynb.\n",
      "Converted 06_conjugates.ipynb.\n",
      "Converted 07_point_forecast.ipynb.\n",
      "Converted 08_loss_functions.ipynb.\n",
      "Converted 09_plot.ipynb.\n",
      "Converted 10_shared.ipynb.\n",
      "Converted 11_dcmm.ipynb.\n",
      "Converted 12_dbcm.ipynb.\n",
      "Converted 13_latent_factor.ipynb.\n",
      "Converted 14_latent_factor_fxns.ipynb.\n",
      "Converted 15_dlmm.ipynb.\n",
      "Converted index.ipynb.\n"
     ]
    }
   ],
   "source": [
    "#hide\n",
    "from nbdev.export import notebook2script\n",
    "notebook2script()"
   ]
  },
  {
   "cell_type": "code",
   "execution_count": null,
   "metadata": {},
   "outputs": [],
   "source": []
  }
 ],
 "metadata": {
  "kernelspec": {
   "display_name": "Python 3",
   "language": "python",
   "name": "python3"
  }
 },
 "nbformat": 4,
 "nbformat_minor": 4
}
